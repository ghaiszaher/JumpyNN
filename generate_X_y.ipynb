{
 "cells": [
  {
   "cell_type": "code",
   "execution_count": 14,
   "metadata": {},
   "outputs": [],
   "source": [
    "from control.jumpy_control import Jumpy, JumpyHelper\n",
    "import cv2\n",
    "from pynput import mouse\n",
    "from pynput.mouse import Button\n",
    "from threading import Thread\n",
    "import time\n",
    "import json\n",
    "import numpy as np\n",
    "import os"
   ]
  },
  {
   "cell_type": "code",
   "execution_count": 15,
   "metadata": {},
   "outputs": [],
   "source": [
    "include_previous_frame = False\n",
    "ignore_zero_output = False\n",
    "frames_ahead = 0\n",
    "previous_outputs = 0"
   ]
  },
  {
   "cell_type": "code",
   "execution_count": 16,
   "metadata": {},
   "outputs": [
    {
     "data": {
      "text/plain": [
       "['./gameplay_logs/1553448946.270552',\n",
       " './gameplay_logs/1553448965.3654816',\n",
       " './gameplay_logs/1553449015.2570503',\n",
       " './gameplay_logs/1553449071.8743048']"
      ]
     },
     "execution_count": 16,
     "metadata": {},
     "output_type": "execute_result"
    }
   ],
   "source": [
    "d='./gameplay_logs'\n",
    "folders = [ os.path.join(d, name) for name in os.listdir(d) if os.path.isdir(os.path.join(d, name)) ]\n",
    "folders "
   ]
  },
  {
   "cell_type": "code",
   "execution_count": 17,
   "metadata": {
    "scrolled": true
   },
   "outputs": [
    {
     "name": "stdout",
     "output_type": "stream",
     "text": [
      "processing folder  ./gameplay_logs/1553448946.270552 ...\n",
      "Done with folder ./gameplay_logs/1553448946.270552\n",
      "processing folder  ./gameplay_logs/1553448965.3654816 ...\n",
      "Done with folder ./gameplay_logs/1553448965.3654816\n",
      "processing folder  ./gameplay_logs/1553449015.2570503 ...\n",
      "Done with folder ./gameplay_logs/1553449015.2570503\n",
      "processing folder  ./gameplay_logs/1553449071.8743048 ...\n",
      "Done with folder ./gameplay_logs/1553449071.8743048\n",
      "Done generating!\n"
     ]
    }
   ],
   "source": [
    "for folder in folders:\n",
    "    print(\"processing folder \",folder,\"...\")\n",
    "    \n",
    "    npz_file_path = f\"{folder}/features_X_y.npz\"\n",
    "    if os.path.exists(npz_file_path):\n",
    "        print(\"file already exists, skipping...\")\n",
    "        continue\n",
    "        \n",
    "    with open(f'{folder}/game_info.json') as f:\n",
    "        game_info = json.load(f)\n",
    "\n",
    "\n",
    "    X = None\n",
    "    y = None\n",
    "\n",
    "    limit = len(game_info['images'])-45 #Skip last 45 frames (after loss)\n",
    "    previous_features = None\n",
    "    keys = list(game_info['images'].keys())\n",
    "    for i in range(len(keys)):\n",
    "        image_name = keys[i]\n",
    "            \n",
    "        if i>=limit:\n",
    "            break;\n",
    "        if i < 10: #skip first 10\n",
    "            continue\n",
    "\n",
    "        if frames_ahead:\n",
    "            ahead_image_name = keys[i+frames_ahead]\n",
    "            x_drag = np.atleast_2d(game_info[\"images\"][ahead_image_name][\"prev_drag_x\"])\n",
    "        else:\n",
    "            x_drag = np.atleast_2d(game_info[\"images\"][image_name][\"prev_drag_x\"])\n",
    "            \n",
    "        \n",
    "        if ignore_zero_output and x_drag==0:\n",
    "            continue\n",
    "        \n",
    "        img = cv2.imread(f\"{folder}/images/{image_name}\")\n",
    "        helper = JumpyHelper(img)\n",
    "        features = np.atleast_2d(helper.get_features())\n",
    "        to_add = features\n",
    "            \n",
    "        if include_previous_frame:\n",
    "            if previous_features is None:\n",
    "                previous_features = np.zeros_like(features)\n",
    "            \n",
    "            to_add = np.append(to_add, previous_features, axis=1) \n",
    "        \n",
    "        if previous_outputs:\n",
    "            prev_x_drags = [0] * previous_outputs\n",
    "            j = 0\n",
    "            while j < previous_outputs and (i-j-1)>=0:\n",
    "                prev_x_drags[j] = game_info[\"images\"][keys[(i-j-1)]][\"prev_drag_x\"]\n",
    "                j+=1\n",
    "            to_add = np.append(to_add, np.atleast_2d(prev_x_drags), axis=1)\n",
    "    \n",
    "        if X is None:\n",
    "            X = to_add\n",
    "        else:\n",
    "            X = np.append(X, to_add, axis=0)\n",
    "        \n",
    "        previous_features = features\n",
    "\n",
    "        if y is None:\n",
    "            y = x_drag\n",
    "        else:\n",
    "            y = np.append(y, x_drag, axis=0)\n",
    "\n",
    "\n",
    "\n",
    "    with open(npz_file_path, \"wb\") as f:\n",
    "        np.savez(f, X=X, y=y)\n",
    "    \n",
    "    print(\"Done with folder \"+folder)\n",
    "    \n",
    "print(\"Done generating!\")"
   ]
  },
  {
   "cell_type": "code",
   "execution_count": 18,
   "metadata": {},
   "outputs": [
    {
     "name": "stdout",
     "output_type": "stream",
     "text": [
      "[1 0 0 0 0] [1 0 0 0 0]\n",
      "[[ 8]\n",
      " [10]\n",
      " [ 6]\n",
      " [ 3]\n",
      " [ 2]]\n",
      "(1285, 1278)\n"
     ]
    }
   ],
   "source": [
    "print(X[5,-5:], X[6,-5:])\n",
    "print(y[0:5])\n",
    "print(X.shape)"
   ]
  },
  {
   "cell_type": "code",
   "execution_count": 19,
   "metadata": {},
   "outputs": [
    {
     "name": "stdout",
     "output_type": "stream",
     "text": [
      "done\n"
     ]
    }
   ],
   "source": [
    "X=None\n",
    "y=None\n",
    "\n",
    "for folder in folders:\n",
    "    with open(f\"{folder}/features_X_y.npz\", \"rb\") as f:\n",
    "        data = np.load(f)\n",
    "        if X is None:\n",
    "            X = data[\"X\"]\n",
    "        else:\n",
    "            X = np.append(X, data[\"X\"], axis=0)\n",
    "        if y is None:\n",
    "            y = data[\"y\"]\n",
    "        else:\n",
    "            y = np.append(y, data[\"y\"], axis=0)\n",
    "            \n",
    "\n",
    "with open(f\"{d}/features_X_y.npz\", \"wb\") as f:\n",
    "    np.savez(f, X=X, y=y)\n",
    "    \n",
    "print(\"done\")"
   ]
  },
  {
   "cell_type": "code",
   "execution_count": 20,
   "metadata": {},
   "outputs": [
    {
     "data": {
      "text/plain": [
       "(3677, 1278)"
      ]
     },
     "execution_count": 20,
     "metadata": {},
     "output_type": "execute_result"
    }
   ],
   "source": [
    "X.shape"
   ]
  },
  {
   "cell_type": "code",
   "execution_count": 21,
   "metadata": {},
   "outputs": [
    {
     "data": {
      "text/plain": [
       "(3677, 1)"
      ]
     },
     "execution_count": 21,
     "metadata": {},
     "output_type": "execute_result"
    }
   ],
   "source": [
    "y.shape"
   ]
  }
 ],
 "metadata": {
  "kernelspec": {
   "display_name": "Python 3",
   "language": "python",
   "name": "python3"
  },
  "language_info": {
   "codemirror_mode": {
    "name": "ipython",
    "version": 3
   },
   "file_extension": ".py",
   "mimetype": "text/x-python",
   "name": "python",
   "nbconvert_exporter": "python",
   "pygments_lexer": "ipython3",
   "version": "3.6.8"
  }
 },
 "nbformat": 4,
 "nbformat_minor": 2
}
